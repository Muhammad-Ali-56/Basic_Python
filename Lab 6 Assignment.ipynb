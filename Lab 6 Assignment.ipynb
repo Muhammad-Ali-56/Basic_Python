{
 "cells": [
  {
   "cell_type": "markdown",
   "id": "f4fccbc6",
   "metadata": {},
   "source": [
    "                                            LAB 6 ASSIGNMENT"
   ]
  },
  {
   "cell_type": "markdown",
   "id": "86c52636",
   "metadata": {},
   "source": [
    "Write a Python class called Rectangle that has attributes length and width. Implement\n",
    "methods to calculate the area and perimeter of the rectangle.\n"
   ]
  },
  {
   "cell_type": "code",
   "execution_count": 2,
   "id": "7089f223",
   "metadata": {},
   "outputs": [
    {
     "name": "stdout",
     "output_type": "stream",
     "text": [
      "Enter Length :4\n",
      "Enter Width :3\n",
      "Area of Rectangle : 12.0 cm²\n",
      "Parameter : 14.0 cm\n"
     ]
    }
   ],
   "source": [
    "class Rectangle:\n",
    "    def __init__(self,length,width):\n",
    "        self.width=width\n",
    "        self.length=length\n",
    "    def area(self):\n",
    "        print(\"Area of Rectangle :\",self.length*self.width,\"cm²\")\n",
    "    def parameter(self):\n",
    "        print(\"Parameter :\",(2)*(self.length+self.width),\"cm\")\n",
    "lenth=float(input(\"Enter Length :\"))\n",
    "widt=float(input(\"Enter Width :\"))\n",
    "shape=Rectangle(lenth,widt)\n",
    "shape.area()\n",
    "shape.parameter()"
   ]
  },
  {
   "cell_type": "markdown",
   "id": "d09614e6",
   "metadata": {},
   "source": [
    "Create a class hierarchy in Python consisting of a base class called Animal, and derived\n",
    "classes Dog, Cat, and Bird. Each derived class should have its unique method. Instantiate\n",
    "objects of each class and demonstrate polymorphism by calling a common method on\n",
    "each object."
   ]
  },
  {
   "cell_type": "code",
   "execution_count": 46,
   "id": "2a3ed30b",
   "metadata": {},
   "outputs": [
    {
     "name": "stdout",
     "output_type": "stream",
     "text": [
      ".......Animals Attributes\n",
      ".\n",
      ".\n",
      ".\n",
      ".......Birds Attributes\n",
      "Flying\n",
      "Pick\n",
      ".......Dogs Attributes\n",
      "Woof\n",
      "Gulp\n",
      ".......Cats Attributes\n",
      "Meow\n",
      "Bite\n",
      "///////////////\n"
     ]
    }
   ],
   "source": [
    "class Animal:\n",
    "    def __init__(self,eat):\n",
    "        self.eat=eat\n",
    "    def eat(self):\n",
    "        print(\"Eating\")\n",
    "class Dog:\n",
    "    def sound(self):\n",
    "        print(\"Woof\")\n",
    "    def eat(self):\n",
    "        print(\"Gulp\")\n",
    "class Cat:\n",
    "    def sound(self):\n",
    "        print(\"Meow\")\n",
    "    def eat(self):\n",
    "        print(\"Bite\")\n",
    "class Bird:\n",
    "    def fly(self):\n",
    "        print(\"Flying\")\n",
    "    def eat(self):\n",
    "        print(\"Pick\")\n",
    "\n",
    "sparrow=Bird()\n",
    "German_shepherd=Dog()\n",
    "Russian=Cat()\n",
    "print(\".......Animals Attributes\\n.\\n.\\n.\")\n",
    "\n",
    "print(\".......Birds Attributes\")\n",
    "sparrow.fly()\n",
    "sparrow.eat()\n",
    "print(\".......Dogs Attributes\")\n",
    "German_shepherd.sound()\n",
    "German_shepherd.eat()\n",
    "print(\".......Cats Attributes\")\n",
    "Russian.sound()\n",
    "Russian.eat()\n",
    "print(\"///////////////\")\n",
    "\n"
   ]
  },
  {
   "cell_type": "markdown",
   "id": "884339bf",
   "metadata": {},
   "source": [
    "Write a Python class called Shape with a method area() that returns the area of the\n",
    "shape. Create two subclasses, Rectangle and Circle, each overriding the area() method to\n",
    "7calculate the area of the specific shape. Instantiate objects of each class and display\n",
    "their areas."
   ]
  },
  {
   "cell_type": "code",
   "execution_count": 49,
   "id": "19b44ee8",
   "metadata": {},
   "outputs": [
    {
     "name": "stdout",
     "output_type": "stream",
     "text": [
      "Enter Length of Rectangle : 5.6\n",
      "Enter Width  of Rectangle : 3.0\n",
      "Enter Radius of Circle : 30.56\n",
      "\n",
      "\n",
      "///////////////////////////\n",
      "\n",
      "\n",
      "Rectangle Area: 16.799999999999997\n",
      "Circle Area: 2933.9761048475966\n"
     ]
    }
   ],
   "source": [
    "import math\n",
    "\n",
    "class Shape:\n",
    "    def area(self):\n",
    "        pass\n",
    "\n",
    "class Rectangle(Shape):\n",
    "    def __init__(self, length, width):\n",
    "        self.length = length\n",
    "        self.width = width\n",
    "\n",
    "    def area(self):\n",
    "        return self.length * self.width\n",
    "\n",
    "class Circle(Shape):\n",
    "    def __init__(self, radius):\n",
    "        self.radius = radius\n",
    "\n",
    "    def area(self):\n",
    "        return math.pi * self.radius**2\n",
    "\n",
    "lent=float(input(\"Enter Length of Rectangle : \"))\n",
    "widt=float(input(\"Enter Width  of Rectangle : \"))\n",
    "rectangle = Rectangle(lent, widt)\n",
    "radi=float(input(\"Enter Radius of Circle : \"))\n",
    "circle = Circle(radi)\n",
    "\n",
    "print(\"\\n\\n///////////////////////////\\n\\n\")\n",
    "print(\"Rectangle Area:\", rectangle.area())\n",
    "print(\"Circle Area:\", circle.area())\n"
   ]
  },
  {
   "cell_type": "markdown",
   "id": "cc0137a6",
   "metadata": {},
   "source": [
    "                                                THE END"
   ]
  },
  {
   "cell_type": "code",
   "execution_count": null,
   "id": "a164c4a3",
   "metadata": {},
   "outputs": [],
   "source": []
  }
 ],
 "metadata": {
  "kernelspec": {
   "display_name": "Python 3 (ipykernel)",
   "language": "python",
   "name": "python3"
  },
  "language_info": {
   "codemirror_mode": {
    "name": "ipython",
    "version": 3
   },
   "file_extension": ".py",
   "mimetype": "text/x-python",
   "name": "python",
   "nbconvert_exporter": "python",
   "pygments_lexer": "ipython3",
   "version": "3.10.9"
  }
 },
 "nbformat": 4,
 "nbformat_minor": 5
}
