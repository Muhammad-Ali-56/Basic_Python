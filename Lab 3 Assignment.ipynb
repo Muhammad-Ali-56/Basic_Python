{
 "cells": [
  {
   "cell_type": "markdown",
   "id": "a4753ff1",
   "metadata": {},
   "source": [
    "                                                LAB 3 Assignment"
   ]
  },
  {
   "cell_type": "markdown",
   "id": "8755806e",
   "metadata": {},
   "source": [
    "Task 1: Write a program that asks the user about the number of values he/she wants to enter. Than\n",
    "enter the values as per the required number, calculate its sum and identify the smallest value amongthem"
   ]
  },
  {
   "cell_type": "code",
   "execution_count": 1,
   "id": "7a7a200e",
   "metadata": {},
   "outputs": [
    {
     "name": "stdout",
     "output_type": "stream",
     "text": [
      "Enter Number of Values to be Input:4\n",
      "Enter a Number: 3\n",
      "Enter a Number: 2\n",
      "Enter a Number: 1\n",
      "Enter a Number: 4\n",
      "\n",
      "Sum of  Number is : 10.0\n",
      "Smallest Number is : 1.0\n"
     ]
    }
   ],
   "source": [
    "limit=float(input(\"Enter Number of Values to be Input:\")) \n",
    "small=99999999999999999999999999999999999999999999999999999999999999999999999999999999999999\n",
    "sum_of_num=0\n",
    "for i in range(int(limit)):\n",
    "    new_num= float(input(\"Enter a Number: \"))\n",
    "    if new_num<small:\n",
    "        small=new_num\n",
    "    sum_of_num=sum_of_num+new_num\n",
    "print(\"\\nSum of  Number is :\",sum_of_num)\n",
    "print(\"Smallest Number is :\",small)"
   ]
  },
  {
   "cell_type": "markdown",
   "id": "83281825",
   "metadata": {},
   "source": [
    "Task 2 : The factorial function is used frequently in probability problems. The factorial of a positive\n",
    "integer n (written n! and pronounced “n factorial”) is equal to the product of the positive integers\n",
    "from 1 to n.\n",
    "Write a function factorial that accepts an integer as parameter and returns its factorial.\n",
    "Using the factorial function, write a program that evaluates the factorials of the integers from 1 to 5."
   ]
  },
  {
   "cell_type": "code",
   "execution_count": 93,
   "id": "490c2397",
   "metadata": {},
   "outputs": [
    {
     "name": "stdout",
     "output_type": "stream",
     "text": [
      "Enter Number To Calculate Factorial :6\n",
      "X\tFactorial of X\n",
      "1 \t 1\n",
      "2 \t 2\n",
      "3 \t 6\n",
      "4 \t 24\n",
      "5 \t 120\n",
      "6 \t 720\n"
     ]
    }
   ],
   "source": [
    "fact=int(input(\"Enter Number To Calculate Factorial :\"))\n",
    "facti=1\n",
    "print(\"X\"+\"\\tFactorial of X\")\n",
    "i=1\n",
    "fact+=1\n",
    "for i in range(1,fact):\n",
    "    facti=i*facti\n",
    "    print(i,'\\t',facti);\n",
    "    i+=1"
   ]
  },
  {
   "cell_type": "markdown",
   "id": "ad2928cd",
   "metadata": {},
   "source": [
    "Task 3: Write a program that plays an incredibly stupid number-guessing game. The user will try to\n",
    "guess the secret number until they get it right. That means it will keep looping as long as the guess is\n",
    "different from the secret number. You must store the secret number in a variable, and use that\n",
    "variable throughout. The secret number itself must not appear in the program at all, except in the\n",
    "one line where you store it into a variable"
   ]
  },
  {
   "cell_type": "code",
   "execution_count": 3,
   "id": "1a626c3d",
   "metadata": {},
   "outputs": [
    {
     "name": "stdout",
     "output_type": "stream",
     "text": [
      "Enter a Number from 1-10 :3\n",
      "Your Number is Greater\n",
      "Enter a Number from 1-10 :2\n",
      "Congratulations You Guested the Number\n"
     ]
    }
   ],
   "source": [
    "# Number Guess Game\n",
    "\n",
    "import random\n",
    "num_to_guess=random.randint(0,10)\n",
    "a= True\n",
    "while a!=False:\n",
    "    user_num=int(input(\"Enter a Number from 1-10 :\"))\n",
    "    if user_num>num_to_guess:\n",
    "        print(\"Your Number is Greater\")\n",
    "    elif user_num<num_to_guess:\n",
    "        print(\"Your Number is Smaller\")\n",
    "    elif user_num==num_to_guess:\n",
    "        print(\"Congratulations You Guested the Number\")\n",
    "        a=False"
   ]
  },
  {
   "cell_type": "markdown",
   "id": "ff46966d",
   "metadata": {},
   "source": [
    "Task 4 : The greatest common divisor (GCD) of two integers is the largest integer that evenly divides each of the two numbers. Write function gcd that returns the greatest common divisor of two integers. Use the gcd function in your program to determine the GCD of the numbers in the sample output"
   ]
  },
  {
   "cell_type": "code",
   "execution_count": 89,
   "id": "c69c5fff",
   "metadata": {},
   "outputs": [
    {
     "name": "stdout",
     "output_type": "stream",
     "text": [
      "Enter a Number : 34\n",
      "Enter another Number : 23\n",
      "The GCD of 34 and 23 is : 1\n",
      "Do You Want to Continue Y/N : n\n",
      "\n",
      "Thanks For Using The System !!!!!!!!\n"
     ]
    }
   ],
   "source": [
    "def gcd(a, b):\n",
    "    while b != 0:\n",
    "        a, b = b, a % b\n",
    "    return a\n",
    "a='y'\n",
    "b=True\n",
    "while b==True:\n",
    "\n",
    "    # Sample numbers to find their GCD\n",
    "        num1 = int(input(\"Enter a Number : \"))\n",
    "        num2 = int(input(\"Enter another Number : \"))\n",
    "\n",
    "    # Calculate the GCD using the gcd function\n",
    "        result = gcd(num1, num2)\n",
    "\n",
    "    # Print the result\n",
    "        print(\"The GCD of\", num1, \"and\", num2, \"is :\", result)\n",
    "        a=input(\"Do You Want to Continue Y/N : \")\n",
    "        if a=='n':\n",
    "            b=False\n",
    "        elif a=='N':\n",
    "            b=False\n",
    "print(\"\\nThanks For Using The System !!!!!!!!\")"
   ]
  },
  {
   "cell_type": "markdown",
   "id": "142a2385",
   "metadata": {},
   "source": [
    "Task 5 : Write a program that outputs 100 lines, numbered 1 to 100, each with your name on it."
   ]
  },
  {
   "cell_type": "code",
   "execution_count": 35,
   "id": "7c72ca2a",
   "metadata": {},
   "outputs": [
    {
     "name": "stdout",
     "output_type": "stream",
     "text": [
      "1 Muhammad Ali\n",
      "2 Muhammad Ali\n",
      "3 Muhammad Ali\n",
      "4 Muhammad Ali\n",
      "5 Muhammad Ali\n",
      "6 Muhammad Ali\n",
      "7 Muhammad Ali\n",
      "8 Muhammad Ali\n",
      "9 Muhammad Ali\n",
      "10 Muhammad Ali\n",
      "11 Muhammad Ali\n",
      "12 Muhammad Ali\n",
      "13 Muhammad Ali\n",
      "14 Muhammad Ali\n",
      "15 Muhammad Ali\n",
      "16 Muhammad Ali\n",
      "17 Muhammad Ali\n",
      "18 Muhammad Ali\n",
      "19 Muhammad Ali\n",
      "20 Muhammad Ali\n",
      "21 Muhammad Ali\n",
      "22 Muhammad Ali\n",
      "23 Muhammad Ali\n",
      "24 Muhammad Ali\n",
      "25 Muhammad Ali\n",
      "26 Muhammad Ali\n",
      "27 Muhammad Ali\n",
      "28 Muhammad Ali\n",
      "29 Muhammad Ali\n",
      "30 Muhammad Ali\n",
      "31 Muhammad Ali\n",
      "32 Muhammad Ali\n",
      "33 Muhammad Ali\n",
      "34 Muhammad Ali\n",
      "35 Muhammad Ali\n",
      "36 Muhammad Ali\n",
      "37 Muhammad Ali\n",
      "38 Muhammad Ali\n",
      "39 Muhammad Ali\n",
      "40 Muhammad Ali\n",
      "41 Muhammad Ali\n",
      "42 Muhammad Ali\n",
      "43 Muhammad Ali\n",
      "44 Muhammad Ali\n",
      "45 Muhammad Ali\n",
      "46 Muhammad Ali\n",
      "47 Muhammad Ali\n",
      "48 Muhammad Ali\n",
      "49 Muhammad Ali\n",
      "50 Muhammad Ali\n",
      "51 Muhammad Ali\n",
      "52 Muhammad Ali\n",
      "53 Muhammad Ali\n",
      "54 Muhammad Ali\n",
      "55 Muhammad Ali\n",
      "56 Muhammad Ali\n",
      "57 Muhammad Ali\n",
      "58 Muhammad Ali\n",
      "59 Muhammad Ali\n",
      "60 Muhammad Ali\n",
      "61 Muhammad Ali\n",
      "62 Muhammad Ali\n",
      "63 Muhammad Ali\n",
      "64 Muhammad Ali\n",
      "65 Muhammad Ali\n",
      "66 Muhammad Ali\n",
      "67 Muhammad Ali\n",
      "68 Muhammad Ali\n",
      "69 Muhammad Ali\n",
      "70 Muhammad Ali\n",
      "71 Muhammad Ali\n",
      "72 Muhammad Ali\n",
      "73 Muhammad Ali\n",
      "74 Muhammad Ali\n",
      "75 Muhammad Ali\n",
      "76 Muhammad Ali\n",
      "77 Muhammad Ali\n",
      "78 Muhammad Ali\n",
      "79 Muhammad Ali\n",
      "80 Muhammad Ali\n",
      "81 Muhammad Ali\n",
      "82 Muhammad Ali\n",
      "83 Muhammad Ali\n",
      "84 Muhammad Ali\n",
      "85 Muhammad Ali\n",
      "86 Muhammad Ali\n",
      "87 Muhammad Ali\n",
      "88 Muhammad Ali\n",
      "89 Muhammad Ali\n",
      "90 Muhammad Ali\n",
      "91 Muhammad Ali\n",
      "92 Muhammad Ali\n",
      "93 Muhammad Ali\n",
      "94 Muhammad Ali\n",
      "95 Muhammad Ali\n",
      "96 Muhammad Ali\n",
      "97 Muhammad Ali\n",
      "98 Muhammad Ali\n",
      "99 Muhammad Ali\n",
      "100 Muhammad Ali\n"
     ]
    }
   ],
   "source": [
    "for i in range(1,101):\n",
    "    print(i,\"Muhammad Ali\")"
   ]
  },
  {
   "cell_type": "markdown",
   "id": "9061a9ef",
   "metadata": {},
   "source": [
    "Task 6 : Write a program that prints out a list of the integers from 1 to 20 and their squares"
   ]
  },
  {
   "cell_type": "code",
   "execution_count": 36,
   "id": "db2628b9",
   "metadata": {},
   "outputs": [
    {
     "name": "stdout",
     "output_type": "stream",
     "text": [
      "1 ------- 1\n",
      "2 ------- 4\n",
      "3 ------- 9\n",
      "4 ------- 16\n",
      "5 ------- 25\n",
      "6 ------- 36\n",
      "7 ------- 49\n",
      "8 ------- 64\n",
      "9 ------- 81\n",
      "10 ------- 100\n",
      "11 ------- 121\n",
      "12 ------- 144\n",
      "13 ------- 169\n",
      "14 ------- 196\n",
      "15 ------- 225\n",
      "16 ------- 256\n",
      "17 ------- 289\n",
      "18 ------- 324\n",
      "19 ------- 361\n",
      "20 ------- 400\n"
     ]
    }
   ],
   "source": [
    "for i in range(1,21):\n",
    "    print(i,\"-------\",i**2)"
   ]
  },
  {
   "cell_type": "markdown",
   "id": "0b33b38a",
   "metadata": {},
   "source": [
    "Task 7 : Write a program that uses a for loop to print the numbers 8, 11, 14, 17, 20, . . . , 83, 86, 89.\n"
   ]
  },
  {
   "cell_type": "code",
   "execution_count": 37,
   "id": "0eabe2b2",
   "metadata": {},
   "outputs": [
    {
     "name": "stdout",
     "output_type": "stream",
     "text": [
      "8,11,14,17,20,23,26,29,32,35,38,41,44,47,50,53,56,59,62,65,68,71,74,77,80,83,86,89\n"
     ]
    }
   ],
   "source": [
    "print(','.join([str(i) for i in range(8,90,3)]))"
   ]
  },
  {
   "cell_type": "markdown",
   "id": "12f956f4",
   "metadata": {},
   "source": [
    "Task 8 : Write a program that asks the user for their name and how many times to print it. The\n",
    "program should print out the user’s name the specified number of times."
   ]
  },
  {
   "cell_type": "code",
   "execution_count": 39,
   "id": "52874b3b",
   "metadata": {},
   "outputs": [
    {
     "name": "stdout",
     "output_type": "stream",
     "text": [
      "Enter Your Name : Ali\n",
      "How many Times you Need to Print yoyr name : 2\n",
      "1 Ali\n",
      "2 Ali\n"
     ]
    }
   ],
   "source": [
    "name=str(input(\"Enter Your Name : \"))\n",
    "num=int(input(\"How many Times you Need to Print yoyr name : \"))\n",
    "num+=1;\n",
    "for i in range(1,num):\n",
    "    print(i,name)"
   ]
  },
  {
   "cell_type": "markdown",
   "id": "0c1c3562",
   "metadata": {},
   "source": [
    "Task 9 : Use a for loop to print a box like the one below. Allow the user to specify how wide and\n",
    "how high the box should be."
   ]
  },
  {
   "cell_type": "code",
   "execution_count": 100,
   "id": "f6bd0251",
   "metadata": {},
   "outputs": [
    {
     "name": "stdout",
     "output_type": "stream",
     "text": [
      "Enter Length of Box : 14\n",
      "Enter Width of Box : 4\n",
      "\n",
      "\t   Box\n",
      "\t **************\n",
      "\t **************\n",
      "\t **************\n",
      "\t **************\n"
     ]
    }
   ],
   "source": [
    "length=int(input(\"Enter Length of Box : \"))\n",
    "width=int(input(\"Enter Width of Box : \"))\n",
    "print(\"\\n\\t   Box\")\n",
    "star=\"*\"\n",
    "for i in range(width):\n",
    "    print(\"\\t\",star*length)"
   ]
  },
  {
   "cell_type": "markdown",
   "id": "3459c9fa",
   "metadata": {},
   "source": [
    "Task 10 : Write a code that prints on screen all the 4-digit Armstrong numbers."
   ]
  },
  {
   "cell_type": "code",
   "execution_count": 64,
   "id": "e0d3d1d7",
   "metadata": {},
   "outputs": [
    {
     "name": "stdout",
     "output_type": "stream",
     "text": [
      "Armstrong Number :  1634\n",
      "Armstrong Number :  8208\n",
      "Armstrong Number :  9474\n"
     ]
    }
   ],
   "source": [
    "for num in range(1000,10000):\n",
    "    num_str=str(num)\n",
    "    num_digits=len(num_str)\n",
    "    sum_of_cubes=sum(int(digit)**num_digits for digit in num_str)\n",
    "    if num==sum_of_cubes:\n",
    "        print(\"Armstrong Number : \",num)"
   ]
  },
  {
   "cell_type": "markdown",
   "id": "02c18179",
   "metadata": {},
   "source": [
    "Task 11: An integer is said to be prime if it is divisible only by 1 and itself. For example, 2, 3, 5 and 7\n",
    "are prime, but 4, 6, 8 and 9 are not.\n",
    "a) Write a function that determines if a number is prime.\n",
    "b) Use this function in a program that determines and prints all the prime numbers between 1 and\n",
    "10,000.\n"
   ]
  },
  {
   "cell_type": "code",
   "execution_count": 108,
   "id": "239b016b",
   "metadata": {},
   "outputs": [
    {
     "name": "stdout",
     "output_type": "stream",
     "text": [
      "1\t   2\t   3\t   5\t   7\t   11\t   13\t   17\t   19\t   23\t   29\t   31\t   37\t   41\t   43\t   47\t   53\t   59\t   61\t   67\t   71\t   73\t   79\t   83\t   89\t   97\t   101\t   103\t   107\t   109\t   113\t   127\t   131\t   137\t   139\t   149\t   151\t   157\t   163\t   167\t   173\t   179\t   181\t   191\t   193\t   197\t   199\t   211\t   223\t   227\t   229\t   233\t   239\t   241\t   251\t   257\t   263\t   269\t   271\t   277\t   281\t   283\t   293\t   307\t   311\t   313\t   317\t   331\t   337\t   347\t   349\t   353\t   359\t   367\t   373\t   379\t   383\t   389\t   397\t   401\t   409\t   419\t   421\t   431\t   433\t   439\t   443\t   449\t   457\t   461\t   463\t   467\t   479\t   487\t   491\t   499\t   503\t   509\t   521\t   523\t   541\t   547\t   557\t   563\t   569\t   571\t   577\t   587\t   593\t   599\t   601\t   607\t   613\t   617\t   619\t   631\t   641\t   643\t   647\t   653\t   659\t   661\t   673\t   677\t   683\t   691\t   701\t   709\t   719\t   727\t   733\t   739\t   743\t   751\t   757\t   761\t   769\t   773\t   787\t   797\t   809\t   811\t   821\t   823\t   827\t   829\t   839\t   853\t   857\t   859\t   863\t   877\t   881\t   883\t   887\t   907\t   911\t   919\t   929\t   937\t   941\t   947\t   953\t   967\t   971\t   977\t   983\t   991\t   997\t   1009\t   1013\t   1019\t   1021\t   1031\t   1033\t   1039\t   1049\t   1051\t   1061\t   1063\t   1069\t   1087\t   1091\t   1093\t   1097\t   1103\t   1109\t   1117\t   1123\t   1129\t   1151\t   1153\t   1163\t   1171\t   1181\t   1187\t   1193\t   1201\t   1213\t   1217\t   1223\t   1229\t   1231\t   1237\t   1249\t   1259\t   1277\t   1279\t   1283\t   1289\t   1291\t   1297\t   1301\t   1303\t   1307\t   1319\t   1321\t   1327\t   1361\t   1367\t   1373\t   1381\t   1399\t   1409\t   1423\t   1427\t   1429\t   1433\t   1439\t   1447\t   1451\t   1453\t   1459\t   1471\t   1481\t   1483\t   1487\t   1489\t   1493\t   1499\t   1511\t   1523\t   1531\t   1543\t   1549\t   1553\t   1559\t   1567\t   1571\t   1579\t   1583\t   1597\t   1601\t   1607\t   1609\t   1613\t   1619\t   1621\t   1627\t   1637\t   1657\t   1663\t   1667\t   1669\t   1693\t   1697\t   1699\t   1709\t   1721\t   1723\t   1733\t   1741\t   1747\t   1753\t   1759\t   1777\t   1783\t   1787\t   1789\t   1801\t   1811\t   1823\t   1831\t   1847\t   1861\t   1867\t   1871\t   1873\t   1877\t   1879\t   1889\t   1901\t   1907\t   1913\t   1931\t   1933\t   1949\t   1951\t   1973\t   1979\t   1987\t   1993\t   1997\t   1999\t   2003\t   2011\t   2017\t   2027\t   2029\t   2039\t   2053\t   2063\t   2069\t   2081\t   2083\t   2087\t   2089\t   2099\t   2111\t   2113\t   2129\t   2131\t   2137\t   2141\t   2143\t   2153\t   2161\t   2179\t   2203\t   2207\t   2213\t   2221\t   2237\t   2239\t   2243\t   2251\t   2267\t   2269\t   2273\t   2281\t   2287\t   2293\t   2297\t   2309\t   2311\t   2333\t   2339\t   2341\t   2347\t   2351\t   2357\t   2371\t   2377\t   2381\t   2383\t   2389\t   2393\t   2399\t   2411\t   2417\t   2423\t   2437\t   2441\t   2447\t   2459\t   2467\t   2473\t   2477\t   2503\t   2521\t   2531\t   2539\t   2543\t   2549\t   2551\t   2557\t   2579\t   2591\t   2593\t   2609\t   2617\t   2621\t   2633\t   2647\t   2657\t   2659\t   2663\t   2671\t   2677\t   2683\t   2687\t   2689\t   2693\t   2699\t   2707\t   2711\t   2713\t   2719\t   2729\t   2731\t   2741\t   2749\t   2753\t   2767\t   2777\t   2789\t   2791\t   2797\t   2801\t   2803\t   2819\t   2833\t   2837\t   2843\t   2851\t   2857\t   2861\t   2879\t   2887\t   2897\t   2903\t   2909\t   2917\t   2927\t   2939\t   2953\t   2957\t   2963\t   2969\t   2971\t   2999\t   3001\t   3011\t   3019\t   3023\t   3037\t   3041\t   3049\t   3061\t   3067\t   3079\t   3083\t   3089\t   3109\t   3119\t   3121\t   3137\t   3163\t   3167\t   3169\t   3181\t   3187\t   3191\t   3203\t   3209\t   3217\t   3221\t   3229\t   3251\t   3253\t   3257\t   3259\t   3271\t   3299\t   3301\t   3307\t   3313\t   3319\t   3323\t   3329\t   3331\t   3343\t   3347\t   3359\t   3361\t   3371\t   3373\t   3389\t   3391\t   3407\t   3413\t   3433\t   3449\t   3457\t   3461\t   3463\t   3467\t   3469\t   3491\t   3499\t   3511\t   3517\t   3527\t   3529\t   3533\t   3539\t   3541\t   3547\t   3557\t   3559\t   3571\t   3581\t   3583\t   3593\t   3607\t   3613\t   3617\t   3623\t   3631\t   3637\t   3643\t   3659\t   3671\t   3673\t   3677\t   3691\t   3697\t   3701\t   3709\t   3719\t   3727\t   3733\t   3739\t   3761\t   3767\t   3769\t   3779\t   3793\t   3797\t   3803\t   3821\t   3823\t   3833\t   3847\t   3851\t   3853\t   3863\t   3877\t   3881\t   3889\t   3907\t   3911\t   3917\t   3919\t   3923\t   3929\t   3931\t   3943\t   3947\t   3967\t   3989\t   4001\t   4003\t   4007\t   4013\t   4019\t   4021\t   4027\t   4049\t   4051\t   4057\t   4073\t   4079\t   4091\t   4093\t   4099\t   4111\t   4127\t   4129\t   4133\t   4139\t   4153\t   4157\t   4159\t   4177\t   4201\t   4211\t   4217\t   4219\t   4229\t   4231\t   4241\t   4243\t   4253\t   4259\t   4261\t   4271\t   4273\t   4283\t   4289\t   4297\t   4327\t   4337\t   4339\t   4349\t   4357\t   4363\t   4373\t   4391\t   4397\t   4409\t   4421\t   4423\t   4441\t   4447\t   4451\t   4457\t   4463\t   4481\t   4483\t   4493\t   4507\t   4513\t   4517\t   4519\t   4523\t   4547\t   4549\t   4561\t   4567\t   4583\t   4591\t   4597\t   4603\t   4621\t   4637\t   4639\t   4643\t   4649\t   4651\t   4657\t   4663\t   4673\t   4679\t   4691\t   4703\t   4721\t   4723\t   4729\t   4733\t   4751\t   4759\t   4783\t   4787\t   4789\t   4793\t   4799\t   4801\t   4813\t   4817\t   4831\t   4861\t   4871\t   4877\t   4889\t   4903\t   4909\t   4919\t   4931\t   4933\t   4937\t   4943\t   4951\t   4957\t   4967\t   4969\t   4973\t   4987\t   4993\t   4999\t   5003\t   5009\t   5011\t   5021\t   5023\t   5039\t   5051\t   5059\t   5077\t   5081\t   5087\t   5099\t   5101\t   5107\t   5113\t   5119\t   5147\t   5153\t   5167\t   5171\t   5179\t   5189\t   5197\t   5209\t   5227\t   5231\t   5233\t   5237\t   5261\t   5273\t   5279\t   5281\t   5297\t   5303\t   5309\t   5323\t   5333\t   5347\t   5351\t   5381\t   5387\t   5393\t   5399\t   5407\t   5413\t   5417\t   5419\t   5431\t   5437\t   5441\t   5443\t   5449\t   5471\t   5477\t   5479\t   5483\t   5501\t   5503\t   5507\t   5519\t   5521\t   5527\t   5531\t   5557\t   5563\t   5569\t   5573\t   5581\t   5591\t   5623\t   5639\t   5641\t   5647\t   5651\t   5653\t   5657\t   5659\t   5669\t   5683\t   5689\t   5693\t   5701\t   5711\t   5717\t   5737\t   5741\t   5743\t   5749\t   5779\t   5783\t   5791\t   5801\t   5807\t   5813\t   5821\t   5827\t   5839\t   5843\t   5849\t   5851\t   5857\t   5861\t   5867\t   5869\t   5879\t   5881\t   5897\t   5903\t   5923\t   5927\t   5939\t   5953\t   5981\t   5987\t   6007\t   6011\t   6029\t   6037\t   6043\t   6047\t   6053\t   6067\t   6073\t   6079\t   6089\t   6091\t   6101\t   6113\t   6121\t   6131\t   6133\t   6143\t   6151\t   6163\t   6173\t   6197\t   6199\t   6203\t   6211\t   6217\t   6221\t   6229\t   6247\t   6257\t   6263\t   6269\t   6271\t   6277\t   6287\t   6299\t   6301\t   6311\t   6317\t   6323\t   6329\t   6337\t   6343\t   6353\t   6359\t   6361\t   6367\t   6373\t   6379\t   6389\t   6397\t   6421\t   6427\t   6449\t   6451\t   6469\t   6473\t   6481\t   6491\t   6521\t   6529\t   6547\t   6551\t   6553\t   6563\t   6569\t   6571\t   6577\t   6581\t   6599\t   6607\t   6619\t   6637\t   6653\t   6659\t   6661\t   6673\t   6679\t   6689\t   6691\t   6701\t   6703\t   6709\t   6719\t   6733\t   6737\t   6761\t   6763\t   6779\t   6781\t   6791\t   6793\t   6803\t   6823\t   6827\t   6829\t   6833\t   6841\t   6857\t   6863\t   6869\t   6871\t   6883\t   6899\t   6907\t   6911\t   6917\t   6947\t   6949\t   6959\t   6961\t   6967\t   6971\t   6977\t   6983\t   6991\t   6997\t   7001\t   7013\t   7019\t   7027\t   7039\t   7043\t   7057\t   7069\t   7079\t   7103\t   7109\t   7121\t   7127\t   7129\t   7151\t   7159\t   7177\t   7187\t   7193\t   7207\t   7211\t   7213\t   7219\t   7229\t   7237\t   7243\t   7247\t   7253\t   7283\t   7297\t   7307\t   7309\t   7321\t   7331\t   7333\t   7349\t   7351\t   7369\t   7393\t   7411\t   7417\t   7433\t   7451\t   7457\t   7459\t   7477\t   7481\t   7487\t   7489\t   7499\t   7507\t   7517\t   7523\t   7529\t   7537\t   7541\t   7547\t   7549\t   7559\t   7561\t   7573\t   7577\t   7583\t   7589\t   7591\t   7603\t   7607\t   7621\t   7639\t   7643\t   7649\t   7669\t   7673\t   7681\t   7687\t   7691\t   7699\t   7703\t   7717\t   7723\t   7727\t   7741\t   7753\t   7757\t   7759\t   7789\t   7793\t   7817\t   7823\t   7829\t   7841\t   7853\t   7867\t   7873\t   7877\t   7879\t   7883\t   7901\t   7907\t   7919\t   7927\t   7933\t   7937\t   7949\t   7951\t   7963\t   7993\t   8009\t   8011\t   8017\t   8039\t   8053\t   8059\t   8069\t   8081\t   8087\t   8089\t   8093\t   8101\t   8111\t   8117\t   8123\t   8147\t   8161\t   8167\t   8171\t   8179\t   8191\t   8209\t   8219\t   8221\t   8231\t   8233\t   8237\t   8243\t   8263\t   8269\t   8273\t   8287\t   8291\t   8293\t   8297\t   8311\t   8317\t   8329\t   8353\t   8363\t   8369\t   8377\t   8387\t   8389\t   8419\t   8423\t   8429\t   8431\t   8443\t   8447\t   8461\t   8467\t   8501\t   8513\t   8521\t   8527\t   8537\t   8539\t   8543\t   8563\t   8573\t   8581\t   8597\t   8599\t   8609\t   8623\t   8627\t   8629\t   8641\t   8647\t   8663\t   8669\t   8677\t   8681\t   8689\t   8693\t   8699\t   8707\t   8713\t   8719\t   8731\t   8737\t   8741\t   8747\t   8753\t   8761\t   8779\t   8783\t   8803\t   8807\t   8819\t   8821\t   8831\t   8837\t   8839\t   8849\t   8861\t   8863\t   8867\t   8887\t   8893\t   8923\t   8929\t   8933\t   8941\t   8951\t   8963\t   8969\t   8971\t   8999\t   9001\t   9007\t   9011\t   9013\t   9029\t   9041\t   9043\t   9049\t   9059\t   9067\t   9091\t   9103\t   9109\t   9127\t   9133\t   9137\t   9151\t   9157\t   9161\t   9173\t   9181\t   9187\t   9199\t   9203\t   9209\t   9221\t   9227\t   9239\t   9241\t   9257\t   9277\t   9281\t   9283\t   9293\t   9311\t   9319\t   9323\t   9337\t   9341\t   9343\t   9349\t   9371\t   9377\t   9391\t   9397\t   9403\t   9413\t   9419\t   9421\t   9431\t   9433\t   9437\t   9439\t   9461\t   9463\t   9467\t   9473\t   9479\t   9491\t   9497\t   9511\t   9521\t   9533\t   9539\t   9547\t   9551\t   9587\t   9601\t   9613\t   9619\t   9623\t   9629\t   9631\t   9643\t   9649\t   9661\t   9677\t   9679\t   9689\t   9697\t   9719\t   9721\t   9733\t   9739\t   9743\t   9749\t   9767\t   9769\t   9781\t   9787\t   9791\t   9803\t   9811\t   9817\t   9829\t   9833\t   9839\t   9851\t   9857\t   9859\t   9871\t   9883\t   9887\t   9901\t   9907\t   9923\t   9929\t   9931\t   9941\t   9949\t   9967\t   9973\t   "
     ]
    }
   ],
   "source": [
    "\n",
    "def is_prime(num):\n",
    "    if num < 1:\n",
    "        return False\n",
    "    for i in range(2, int(num ** 0.5) + 1):\n",
    "        if num % i == 0:\n",
    "            return False\n",
    "    return True\n",
    "\n",
    "def print_prime_numbers(start, end ):\n",
    "    for num in range(start, end ):\n",
    "        if is_prime(num):\n",
    "            print(num,end=\"\\t   \")\n",
    "print_prime_numbers(1, 10000)"
   ]
  },
  {
   "cell_type": "markdown",
   "id": "c993eed8",
   "metadata": {},
   "source": [
    "Task 12 : Use a for loop to print a triangle like the one below. Allow the user to specify how high the triangle should be?"
   ]
  },
  {
   "cell_type": "code",
   "execution_count": 110,
   "id": "b78efad1",
   "metadata": {
    "scrolled": true
   },
   "outputs": [
    {
     "name": "stdout",
     "output_type": "stream",
     "text": [
      "Enter length : 7\n",
      "*\n",
      "**\n",
      "***\n",
      "****\n",
      "*****\n",
      "******\n",
      "*******\n"
     ]
    }
   ],
   "source": [
    "lent=int(input(\"Enter length : \"))\n",
    "for i in range(1,lent+1):\n",
    "    for j in range(1,i+1):\n",
    "        print('*', end='')\n",
    "    print(\"\")"
   ]
  },
  {
   "cell_type": "markdown",
   "id": "eeae25d8",
   "metadata": {},
   "source": [
    "Task 13 : Use for loops to print a diamond like the one below. Allow the user to specify how high the diamond should be."
   ]
  },
  {
   "cell_type": "code",
   "execution_count": 111,
   "id": "9edcad13",
   "metadata": {},
   "outputs": [
    {
     "name": "stdout",
     "output_type": "stream",
     "text": [
      "Enter the Height of the Diamond : 9\n",
      "    *\n",
      "   ***\n",
      "  *****\n",
      " *******\n",
      "*********\n",
      " *******\n",
      "  *****\n",
      "   ***\n",
      "    *\n"
     ]
    }
   ],
   "source": [
    "def diamond(height):\n",
    "    if height % 2 == 0:\n",
    "        height += 1  # Make sure the height is odd to create a symmetrical diamond\n",
    "\n",
    "    for i in range(height):\n",
    "        spaces = abs(height // 2 - i)\n",
    "        stars = height - 2 * spaces\n",
    "        print(' ' * spaces + '*' * stars)\n",
    "\n",
    "# Prompt the user for the height of the diamond\n",
    "height = int(input(\"Enter the Height of the Diamond : \"))\n",
    "\n",
    "diamond(height)"
   ]
  },
  {
   "cell_type": "markdown",
   "id": "2014ba30",
   "metadata": {},
   "source": [
    "Task 14 : Write a program that prints a giant letter A like the one below. Allow the user to specify how large the letter should be.\n"
   ]
  },
  {
   "cell_type": "code",
   "execution_count": 119,
   "id": "8e913d46",
   "metadata": {},
   "outputs": [
    {
     "name": "stdout",
     "output_type": "stream",
     "text": [
      "Enter Rows Of Letter A : 14\n",
      "              * \n",
      "             * * \n",
      "            *   * \n",
      "           *     * \n",
      "          *       * \n",
      "         *         * \n",
      "        *           * \n",
      "       * * * * * * * * \n",
      "      *               * \n",
      "     *                 * \n",
      "    *                   * \n",
      "   *                     * \n",
      "  *                       * \n",
      " *                         * \n"
     ]
    }
   ],
   "source": [
    "rows = int(input(\"Enter Rows Of Letter A : \"))  # Number of rows in the letter A\n",
    "for i in range(rows):\n",
    "    for j in range(rows - i):\n",
    "         print(' ', end='')\n",
    "    for k in range(i + 1):\n",
    "        if k == 0 or k == i or i == rows // 2:\n",
    "              print('*', end=' ')\n",
    "        else:\n",
    "             print(' ', end=' ')\n",
    "    print('')"
   ]
  },
  {
   "cell_type": "markdown",
   "id": "3e9fe60b",
   "metadata": {},
   "source": [
    "                                                       The End"
   ]
  },
  {
   "cell_type": "code",
   "execution_count": null,
   "id": "2ca72f04",
   "metadata": {},
   "outputs": [],
   "source": []
  }
 ],
 "metadata": {
  "kernelspec": {
   "display_name": "Python 3 (ipykernel)",
   "language": "python",
   "name": "python3"
  },
  "language_info": {
   "codemirror_mode": {
    "name": "ipython",
    "version": 3
   },
   "file_extension": ".py",
   "mimetype": "text/x-python",
   "name": "python",
   "nbconvert_exporter": "python",
   "pygments_lexer": "ipython3",
   "version": "3.10.9"
  }
 },
 "nbformat": 4,
 "nbformat_minor": 5
}
