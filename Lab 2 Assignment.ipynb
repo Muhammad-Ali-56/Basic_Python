{
 "cells": [
  {
   "cell_type": "code",
   "execution_count": null,
   "id": "a5332731",
   "metadata": {},
   "outputs": [],
   "source": [
    " Which of the following expressions results in SyntaxErrors? Identify the syntax SyntaxErrors and type the reason of error along with the correct code by mentioning its sequence number.\n",
    "n. 6*-----------8 \n",
    "o. 8=people \n",
    "p. ((((4**3)))) \n",
    "q. (-(-(-(-5)))) \n",
    "r. 4+=7/2\n"
   ]
  },
  {
   "cell_type": "code",
   "execution_count": null,
   "id": "d2bf5430",
   "metadata": {},
   "outputs": [],
   "source": [
    "n. has a SyntaxError becacause there are many minus \"-\" signs after an asterike \"*\"\n",
    "    correct Syntax will be\n",
    "        6*-8\n",
    "0. has a SyntaxError because we tried to asign value to a digit whoch is not possible\n",
    "    correct Syntax will be\n",
    "        people=8\n",
    "p. has no SyntaxError although there is no need of extra braces\n",
    "    it will be better if we write \n",
    "        (4**3)\n",
    "q. has no SyntaxError because braces are well closed and final value will be \n",
    "        -5\n",
    "r. has a SyntaxError because we tried to pass an argument for a digit which is not possible\n",
    "    it will be written as \n",
    "        VAR=4+7/2\n",
    "        or other ways\n",
    "\n"
   ]
  },
  {
   "cell_type": "code",
   "execution_count": 2,
   "id": "d5b1f6eb",
   "metadata": {},
   "outputs": [],
   "source": [
    " Using only thetechniques you have learned so far,\n",
    "write a program that calculates the square and cube of the numbers from 0 to 10 and uses tabs to print the table\n"
   ]
  },
  {
   "cell_type": "code",
   "execution_count": 10,
   "id": "fb0b48e0",
   "metadata": {},
   "outputs": [
    {
     "name": "stdout",
     "output_type": "stream",
     "text": [
      "Number      Square      Cube\n",
      "0             0          0\n",
      "1             1          1\n",
      "2             4          8\n",
      "3             9          27\n",
      "4             16         64\n",
      "5             25         125\n",
      "6             36         216\n",
      "7             49         343\n",
      "8             64         512\n",
      "9             81         729\n",
      "10            100        1000\n"
     ]
    }
   ],
   "source": [
    "print(\"Number\",\"    \",\"Square\",\"    \",\"Cube\")\n",
    "print(0,\"           \",0**2,\"        \",0**3)\n",
    "print(1,\"           \",1**2,\"        \",1**3)\n",
    "print(2,\"           \",2**2,\"        \",2**3)\n",
    "print(3,\"           \",3**2,\"        \",3**3)\n",
    "print(4,\"           \",4**2,\"       \",4**3)\n",
    "print(5,\"           \",5**2,\"       \",5**3)\n",
    "print(6,\"           \",6**2,\"       \",6**3)\n",
    "print(7,\"           \",7**2,\"       \",7**3)\n",
    "print(8,\"           \",8**2,\"       \",8**3)\n",
    "print(9,\"           \",9**2,\"       \",9**3)\n",
    "print(10,\"          \",10**2,\"      \",10**3)"
   ]
  },
  {
   "cell_type": "code",
   "execution_count": null,
   "id": "3901d167",
   "metadata": {},
   "outputs": [],
   "source": [
    "Write a program that assigns values to two variables and then swap their values."
   ]
  },
  {
   "cell_type": "code",
   "execution_count": 11,
   "id": "de28400d",
   "metadata": {},
   "outputs": [
    {
     "name": "stdout",
     "output_type": "stream",
     "text": [
      "Values Before Swaping\n",
      "A = 4\n",
      "B = 56\n",
      "Values After Swaping\n",
      "A = 56\n",
      "B = 4\n"
     ]
    }
   ],
   "source": [
    "a=4\n",
    "b=56\n",
    "\n",
    "print(\"Values Before Swaping\")\n",
    "print(\"A =\",a)\n",
    "print(\"B =\",b)\n",
    "\n",
    "temp=a\n",
    "a=b\n",
    "b=temp\n",
    "print(\"Values After Swaping\")\n",
    "print(\"A =\",a)\n",
    "print(\"B =\",b)\n"
   ]
  },
  {
   "cell_type": "code",
   "execution_count": null,
   "id": "7b5bb485",
   "metadata": {},
   "outputs": [],
   "source": [
    "Write a program that inputs one five-digit number, \n",
    "generates its reverse and displays the reverse on screen.\n",
    "    (Hint:Make use of the arithmetic operators modulus(%) and floor(//)\n"
   ]
  },
  {
   "cell_type": "code",
   "execution_count": 21,
   "id": "398188e3",
   "metadata": {},
   "outputs": [
    {
     "name": "stdout",
     "output_type": "stream",
     "text": [
      "Enter a Five Digit Number to reverse it:23424\n",
      "Number : 23424\n",
      "Reverse of Number is : 42432\n"
     ]
    }
   ],
   "source": [
    "num=int(input(\"Enter a Five Digit Number to reverse it:\"))\n",
    "print(\"Number :\",num)\n",
    "# Reversing The Number\n",
    "dig1=num%10\n",
    "dig2=(num%100)//10\n",
    "dig3=(num%1000)//100\n",
    "dig4=(num%10000)//1000\n",
    "dig5=(num%100000)//10000\n",
    "\n",
    "print(\"Reverse of Number is : \"+str(dig1)+str(dig2)+str(dig3)+str(dig4)+str(dig5))"
   ]
  },
  {
   "cell_type": "code",
   "execution_count": null,
   "id": "ac8f7a75",
   "metadata": {},
   "outputs": [],
   "source": [
    "Using whatever we have learned so far,write a program that prints a box,a noval,an arrow and a diamond"
   ]
  },
  {
   "cell_type": "code",
   "execution_count": 62,
   "id": "4b875867",
   "metadata": {},
   "outputs": [
    {
     "name": "stdout",
     "output_type": "stream",
     "text": [
      "--------------\n",
      "   Box\n",
      "--------------\n",
      "*********\n",
      "*       *\n",
      "*       *\n",
      "*       *\n",
      "*       *\n",
      "*       *\n",
      "*       *\n",
      "*       *\n",
      "*********\n",
      "--------------\n",
      "   Oval\n",
      "--------------\n",
      "   ***   \n",
      " *     * \n",
      "*       *\n",
      "*       *\n",
      "*       *\n",
      "*       *\n",
      "*       *\n",
      " *     * \n",
      "   ***   \n",
      "--------------\n",
      "   Arrow\n",
      "--------------\n",
      "  *\n",
      " ***\n",
      "*****\n",
      "  *\n",
      "  *\n",
      "  *\n",
      "  *\n",
      "  *\n",
      "  *\n",
      "--------------\n",
      "   Diamond\n",
      "--------------\n",
      "    *\n",
      "   * *\n",
      "  *   *\n",
      " *     *\n",
      "*       *\n",
      " *     *\n",
      "  *   *\n",
      "   * *\n",
      "    *\n"
     ]
    }
   ],
   "source": [
    "var='*'\n",
    "spa=' '\n",
    "lin='-'\n",
    "\n",
    "\n",
    "print(lin*14)\n",
    "# Box\n",
    "print(spa*3+'Box')\n",
    "print(lin*14)\n",
    "\n",
    "print(var*9)\n",
    "print(var+spa*7+var)\n",
    "print(var+spa*7+var)\n",
    "print(var+spa*7+var)\n",
    "print(var+spa*7+var)\n",
    "print(var+spa*7+var)\n",
    "print(var+spa*7+var)\n",
    "print(var+spa*7+var)\n",
    "print(var*9)\n",
    "\n",
    "print(lin*14)\n",
    "\n",
    "# Oval\n",
    "print(spa*3+'Oval')\n",
    "print(lin*14)\n",
    "\n",
    "print(spa*3+var*3+spa*3)\n",
    "print(spa+var+spa*5+var+spa)\n",
    "print(var+spa*7+var)\n",
    "print(var+spa*7+var)\n",
    "print(var+spa*7+var)\n",
    "print(var+spa*7+var)\n",
    "print(var+spa*7+var)\n",
    "print(spa+var+spa*5+var+spa)\n",
    "print(spa*3+var*3+spa*3)\n",
    "\n",
    "print(lin*14)\n",
    "\n",
    "# Arrow\n",
    "print(spa*3+\"Arrow\")\n",
    "print(lin*14)\n",
    "\n",
    "print(spa*2+var)\n",
    "print(spa+var*3)\n",
    "print(var*5)\n",
    "print(spa*2+var)\n",
    "print(spa*2+var)\n",
    "print(spa*2+var)\n",
    "print(spa*2+var)\n",
    "print(spa*2+var)\n",
    "print(spa*2+var)\n",
    "\n",
    "print(lin*14)\n",
    "\n",
    "# Diamond\n",
    "print(spa*3+'Diamond')\n",
    "print(lin*14)\n",
    "\n",
    "print(spa*4+var)\n",
    "print(spa*3+var+spa+var)\n",
    "print(spa*2+var+spa*3+var)\n",
    "print(spa+var+spa*5+var)\n",
    "print(var+spa*7+var)\n",
    "print(spa+var+spa*5+var)\n",
    "print(spa*2+var+spa*3+var)\n",
    "print(spa*3+var+spa+var)\n",
    "print(spa*4+var)\n"
   ]
  },
  {
   "cell_type": "code",
   "execution_count": null,
   "id": "5d86d41d",
   "metadata": {},
   "outputs": [],
   "source": [
    "Write a program that reads three non zero integers and determines and prints if they could be the sides of a right triangle.(Hint: use Pythagoras theorem you learned in mathematics during FSC or matric,try different combinations of the same integers"
   ]
  },
  {
   "cell_type": "code",
   "execution_count": 79,
   "id": "00495b18",
   "metadata": {},
   "outputs": [
    {
     "name": "stdout",
     "output_type": "stream",
     "text": [
      "Enter Three Integers Separated by a Space : 4 3 5\n",
      "The three integers are the sides of a right triangle\n"
     ]
    }
   ],
   "source": [
    "numbers=input(\"Enter Three Integers Separated by a Space : \")\n",
    "\n",
    "list1=numbers.split(\" \")\n",
    "\n",
    "side1=list1[0]\n",
    "side2=list1[1]\n",
    "side3=list1[2]\n",
    "\n",
    "a=int(side1)\n",
    "b=int(side2)\n",
    "c=int(side3)\n",
    "\n",
    "# Using Pythagoras Theorem  a**2 =b**2+c**2\n",
    "\n",
    "if a!=0 and b!=0 and c!=0 :\n",
    "    if a**2==(b**2-c**2):\n",
    "        print(\"The three integers are the sides of a right triangle\")\n",
    "    elif c**2==(b**2+a**2):\n",
    "        print(\"The three integers are the sides of a right triangle\")\n",
    "    elif b**2==(a**2+c**2):\n",
    "        print(\"The three integers are the sides of a right triangle\")\n",
    "    else:\n",
    "        print(\"The three integers are not the sides of a right triangle\")\n",
    "else:\n",
    "    print(\"The three integers are not the sides of a right triangle\")"
   ]
  },
  {
   "cell_type": "code",
   "execution_count": null,
   "id": "a9f533ec",
   "metadata": {},
   "outputs": [],
   "source": [
    "Write a program to prompt for a score between 0.0 and 1.0. If th escore is out of range,print an error message.If the score is between 0.0 and 1.0 ,print a grade"
   ]
  },
  {
   "cell_type": "code",
   "execution_count": 127,
   "id": "1191beb9",
   "metadata": {},
   "outputs": [
    {
     "name": "stdout",
     "output_type": "stream",
     "text": [
      "Enter a Score between 0.0 and 1.0 :0.99\n",
      "A\n"
     ]
    }
   ],
   "source": [
    "score=str(input(\"Enter a Score between 0.0 and 1.0 :\"))\n",
    "if score>='0.0' and score<'1.0':\n",
    "    score=float(score)\n",
    "    if score>=0.9:\n",
    "        print('A')\n",
    "    elif score>=0.8:\n",
    "        print('B')\n",
    "    elif score>=0.7:\n",
    "        print('C')\n",
    "    elif score>=0.6:\n",
    "        print('D')\n",
    "    else:\n",
    "        print('F')\n",
    "else:\n",
    "    print('Bad Score')\n",
    "    "
   ]
  },
  {
   "cell_type": "code",
   "execution_count": null,
   "id": "43370cfe",
   "metadata": {},
   "outputs": [],
   "source": [
    "Write a program that asks the user for an hour between 1 and 12, asks them to enter am or pm, and asks them how many hours into the futuret hey want to go. Print out what the hour will be that many hours into the future, printing am or pm as appropriat"
   ]
  },
  {
   "cell_type": "code",
   "execution_count": 146,
   "id": "e8cd5189",
   "metadata": {},
   "outputs": [
    {
     "name": "stdout",
     "output_type": "stream",
     "text": [
      "Enter an Hour Between 1 - 12 :9\n",
      "AM 1 or PM 2 : 2\n",
      "How Many Hours ahead? 9\n",
      "New Hour : 6 AM\n"
     ]
    }
   ],
   "source": [
    "hour=int(input(\"Enter an Hour Between 1 - 12 :\"))\n",
    "choice=int(input(\"AM 1 or PM 2 : \"))\n",
    "hours_ahead=0\n",
    "new_time=0\n",
    "mood='AM'\n",
    "\n",
    "if choice==1:\n",
    "    hours_ahead=int (input(\"How Many Hours ahead? \"))\n",
    "    new_time=hour+hours_ahead\n",
    "    if new_time>12:\n",
    "        new_time%=12\n",
    "        mood='PM'\n",
    "    else:\n",
    "        new_time%=12\n",
    "        mood='AM'\n",
    "elif choice==2:\n",
    "    hours_ahead=int (input(\"How Many Hours ahead? \"))\n",
    "    new_time=hour+hours_ahead\n",
    "    if new_time>12:\n",
    "        new_time%=12\n",
    "        mood='AM'\n",
    "    else:\n",
    "        new_time%=12\n",
    "        mood='PM'\n",
    "else :\n",
    "    print(\"Invalid Choce\")\n",
    "    \n",
    "print(\"New Hour :\",new_time,mood)\n",
    "    "
   ]
  },
  {
   "cell_type": "code",
   "execution_count": null,
   "id": "f2c72e2b",
   "metadata": {},
   "outputs": [],
   "source": [
    "A palindrome is a number or a text phrase that reads the same backwards as forwards.\n",
    "For example , each of the following five-digit integers are palindromes : 12321, 55555, 45554 and 11611.\n",
    "Write a program that reads in a five-digit integer and determines whether or not it is a palindrome.\n"
   ]
  },
  {
   "cell_type": "code",
   "execution_count": 166,
   "id": "bc02b70f",
   "metadata": {},
   "outputs": [
    {
     "name": "stdout",
     "output_type": "stream",
     "text": [
      "Enter a Five Digit Number to Check is it Palindrome or not: 13031\n",
      "13031 is a Palindrome\n"
     ]
    }
   ],
   "source": [
    "palin=int(input(\"Enter a Five Digit Number to Check is it Palindrome or not: \"))\n",
    "\n",
    "\n",
    "num1=palin%10\n",
    "num2=palin%100\n",
    "num3=palin%1000\n",
    "num4=palin%10000\n",
    "num5=palin%100000\n",
    "\n",
    "num1=int(num1)\n",
    "num2=int(num2)//10\n",
    "num3=int(num3)//100\n",
    "num4=int(num4)//1000\n",
    "num5=int(num5)//10000\n",
    "\n",
    "if num1==num5 and num2==num4:\n",
    "    print(str(palin)+\" is a Palindrome\")\n",
    "else:\n",
    "    print(str(palin)+\" is Not a Palindrome\")"
   ]
  },
  {
   "cell_type": "code",
   "execution_count": null,
   "id": "8fd83d7f",
   "metadata": {},
   "outputs": [],
   "source": [
    "The End........"
   ]
  }
 ],
 "metadata": {
  "kernelspec": {
   "display_name": "Python 3 (ipykernel)",
   "language": "python",
   "name": "python3"
  },
  "language_info": {
   "codemirror_mode": {
    "name": "ipython",
    "version": 3
   },
   "file_extension": ".py",
   "mimetype": "text/x-python",
   "name": "python",
   "nbconvert_exporter": "python",
   "pygments_lexer": "ipython3",
   "version": "3.10.9"
  }
 },
 "nbformat": 4,
 "nbformat_minor": 5
}
