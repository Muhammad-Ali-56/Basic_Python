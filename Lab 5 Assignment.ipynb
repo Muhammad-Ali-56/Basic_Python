{
 "cells": [
  {
   "cell_type": "markdown",
   "id": "4f7c14b8",
   "metadata": {},
   "source": [
    "                                            LAB 5 ASSIGNMENT"
   ]
  },
  {
   "cell_type": "markdown",
   "id": "2ae53eeb",
   "metadata": {},
   "source": [
    "1. Write a program that inputs a line of text. Output the text in uppercase letters and in\n",
    "lowercase letters using built-in functions."
   ]
  },
  {
   "cell_type": "code",
   "execution_count": 1,
   "id": "10fd7486",
   "metadata": {},
   "outputs": [
    {
     "name": "stdout",
     "output_type": "stream",
     "text": [
      "Enter a line of text: ali khan\n",
      "Uppercase: ALI KHAN\n",
      "Lowercase: ali khan\n"
     ]
    }
   ],
   "source": [
    "text = input(\"Enter a line of text: \")\n",
    "\n",
    "uppercase_text = text.upper()\n",
    "\n",
    "lowercase_text = text.lower()\n",
    "\n",
    "print(\"Uppercase:\", uppercase_text)\n",
    "\n",
    "print(\"Lowercase:\", lowercase_text)"
   ]
  },
  {
   "cell_type": "markdown",
   "id": "44a7d927",
   "metadata": {},
   "source": [
    "2. A simple way to estimate the number of words in a string is to count the number of\n",
    "spaces in the string. Write a program that asks the user for a string and returns an\n",
    "estimate of how many words are in the string.\n"
   ]
  },
  {
   "cell_type": "code",
   "execution_count": 4,
   "id": "6cc8f42f",
   "metadata": {},
   "outputs": [
    {
     "name": "stdout",
     "output_type": "stream",
     "text": [
      "Enter a string: Muhammad Ali Here\n",
      "Estimated number of words: 3\n"
     ]
    }
   ],
   "source": [
    "string = input(\"Enter a string: \")\n",
    "\n",
    "space_count = string.count(\" \")\n",
    "\n",
    "word_count = space_count + 1\n",
    "\n",
    "print(\"Estimated number of words:\", word_count)\n"
   ]
  },
  {
   "cell_type": "markdown",
   "id": "d4984d3f",
   "metadata": {},
   "source": [
    "Write a program that asks the user to enter a string s and then converts s to lowercase,\n",
    "removes all the periods and commas from s, and prints the resulting string."
   ]
  },
  {
   "cell_type": "code",
   "execution_count": 23,
   "id": "a8babb7b",
   "metadata": {},
   "outputs": [
    {
     "name": "stdout",
     "output_type": "stream",
     "text": [
      "Enter a string: muhammad,ali.is,a.good.Boy,FRom.Yasin\n",
      "Resulting string: muhammad ali is a good boy from yasin\n"
     ]
    }
   ],
   "source": [
    "s = input(\"Enter a string: \")\n",
    "\n",
    "\n",
    "lowercase_string = s.lower()\n",
    "\n",
    "cleaned_string = lowercase_string.replace(\".\", \" \").replace(\",\", \" \")\n",
    "\n",
    "print(\"Resulting string:\", cleaned_string)\n"
   ]
  },
  {
   "cell_type": "markdown",
   "id": "3b2b0651",
   "metadata": {},
   "source": [
    "4. A variable ids refers to the list [4353, 2314, 2956, 3382, 9362, 3900]. Using list\n",
    "methods, do the following:\n",
    "\n",
    "    a. Remove 3382 from the list.\n",
    "\n",
    "    b. Get the index of 9362.\n",
    "\n",
    "    c. Insert 4499 in the list after 9362.\n",
    "\n",
    "    d. Extend the list by adding [5566, 1830] to it.\n",
    "\n",
    "    e. Reverse the list.\n",
    "\n",
    "    f. Sort the list"
   ]
  },
  {
   "cell_type": "code",
   "execution_count": 11,
   "id": "f9a55d34",
   "metadata": {},
   "outputs": [
    {
     "name": "stdout",
     "output_type": "stream",
     "text": [
      "[1830, 2314, 2956, 3900, 4353, 4499, 5566, 9362]\n"
     ]
    }
   ],
   "source": [
    "\n",
    "ids = [4353, 2314, 2956, 3382, 9362, 3900]\n",
    "\n",
    "ids.remove(3382)\n",
    "\n",
    "index_9362 = ids.index(9362)\n",
    "\n",
    "ids.insert(index_9362 + 1, 4499)\n",
    "\n",
    "ids.extend([5566, 1830])\n",
    "\n",
    "ids.reverse()\n",
    "\n",
    "ids.sort()\n",
    "\n",
    "print(ids)\n"
   ]
  },
  {
   "cell_type": "markdown",
   "id": "46b21cf6",
   "metadata": {},
   "source": [
    "5. When playing games where you have to roll two dice, it is nice to know the odds of each\n",
    "roll. For instance, the odds of rolling a 12 are about 3%, and the odds of rolling a 7 are\n",
    "about 17%. You can compute these mathematically, but if you don’t know the math, you\n",
    "can write a program to do it. To do this, your program should simulate rolling two dice\n",
    "about 10,000 times and compute and print out the percentage of rolls that come out to\n",
    "be 2, 3, 4, . . . , 12. Print the results in a table format.\n"
   ]
  },
  {
   "cell_type": "code",
   "execution_count": 12,
   "id": "60167b65",
   "metadata": {},
   "outputs": [
    {
     "name": "stdout",
     "output_type": "stream",
     "text": [
      "Roll\tPercentage\n",
      "----\t----------\n",
      "2\t3.05%\n",
      "3\t5.47%\n",
      "4\t8.16%\n",
      "5\t11.70%\n",
      "6\t13.60%\n",
      "7\t16.77%\n",
      "8\t13.83%\n",
      "9\t10.41%\n",
      "10\t8.33%\n",
      "11\t5.85%\n",
      "12\t2.83%\n"
     ]
    }
   ],
   "source": [
    "import random\n",
    "\n",
    "\n",
    "outcomes = {i: 0 for i in range(2, 13)}\n",
    "\n",
    "num_rolls = 10000\n",
    "for _ in range(num_rolls):\n",
    "    dice1 = random.randint(1, 6)\n",
    "    dice2 = random.randint(1, 6)\n",
    "    total = dice1 + dice2\n",
    "    outcomes[total] += 1\n",
    "\n",
    "percentage_table = {i: (count / num_rolls) * 100 for i, count in outcomes.items()}\n",
    "\n",
    "print(\"Roll\\tPercentage\")\n",
    "print(\"----\\t----------\")\n",
    "for outcome, percentage in percentage_table.items():\n",
    "    print(f\"{outcome}\\t{percentage:.2f}%\")\n"
   ]
  },
  {
   "cell_type": "markdown",
   "id": "a8ac8abe",
   "metadata": {},
   "source": [
    "6. Write a function each for mean, median and mode that accepts a list as an argument.\n",
    "The mean, median, and mode functions return an integer. a. Using these functions, write a program that generates a 99-element list of\n",
    "random numbers between 1 and 100 (inclusive) and computes its mean, median,\n",
    "mode.\n"
   ]
  },
  {
   "cell_type": "code",
   "execution_count": 15,
   "id": "c7869bc0",
   "metadata": {},
   "outputs": [
    {
     "name": "stdout",
     "output_type": "stream",
     "text": [
      "Random Numbers: [64, 23, 73, 16, 29, 68, 17, 84, 12, 15, 53, 33, 20, 10, 68, 91, 98, 54, 42, 69, 5, 57, 91, 33, 48, 56, 82, 70, 59, 47, 12, 86, 92, 27, 98, 14, 78, 85, 77, 64, 71, 91, 44, 59, 60, 36, 4, 82, 77, 45, 46, 75, 84, 78, 41, 76, 34, 45, 68, 23, 87, 63, 21, 38, 32, 83, 58, 6, 65, 47, 77, 62, 76, 34, 63, 60, 78, 98, 24, 29, 23, 57, 3, 97, 63, 99, 99, 76, 18, 44, 97, 75, 86, 30, 89, 87, 31, 34, 14]\n",
      "Mean: 55\n",
      "Median: 59\n",
      "Mode: 23\n"
     ]
    }
   ],
   "source": [
    "import random\n",
    "from collections import Counter\n",
    "from statistics import median\n",
    "\n",
    "def calculate_mean(numbers):\n",
    "    return sum(numbers) // len(numbers)\n",
    "\n",
    "def calculate_mode(numbers):\n",
    "    count = Counter(numbers)\n",
    "    mode = max(count, key=count.get)\n",
    "    return mode\n",
    "\n",
    "random_numbers = [random.randint(1, 100) for _ in range(99)]\n",
    "\n",
    "mean = calculate_mean(random_numbers)\n",
    "\n",
    "median = median(random_numbers)\n",
    "\n",
    "mode = calculate_mode(random_numbers)\n",
    "\n",
    "print(\"Random Numbers:\", random_numbers)\n",
    "print(\"Mean:\", mean)\n",
    "print(\"Median:\", median)\n",
    "print(\"Mode:\", mode)\n"
   ]
  },
  {
   "cell_type": "markdown",
   "id": "3da3ff20",
   "metadata": {},
   "source": [
    "7. Write a program that rotates the elements of a list so that the element at the first index\n",
    "moves to the second index, the element in the second index moves to the third index,\n",
    "etc., and the element in the last index moves to the first index.\n"
   ]
  },
  {
   "cell_type": "code",
   "execution_count": 16,
   "id": "3b4f697a",
   "metadata": {},
   "outputs": [
    {
     "name": "stdout",
     "output_type": "stream",
     "text": [
      "Original List: [1, 2, 3, 4, 5]\n",
      "Rotated List: [5, 1, 2, 3, 4]\n"
     ]
    }
   ],
   "source": [
    "def rotate_list(lst):\n",
    "    rotated_lst = [lst[-1]] + lst[:-1]\n",
    "    return rotated_lst\n",
    "\n",
    "my_list = [1, 2, 3, 4, 5]\n",
    "\n",
    "rotated_list = rotate_list(my_list)\n",
    "\n",
    "print(\"Original List:\", my_list)\n",
    "print(\"Rotated List:\", rotated_list)\n"
   ]
  },
  {
   "cell_type": "markdown",
   "id": "71943e05",
   "metadata": {},
   "source": [
    "8. Write a program that generates 100 random integers that are either 0 or 1. Then find the longest\n",
    "run of zeros, the largest number of zeros in a row. For instance, the longest run of zeros in\n",
    "[1,0,1,1,0,0,0,0,1,0,0] is 4.\n"
   ]
  },
  {
   "cell_type": "code",
   "execution_count": 17,
   "id": "d48804a8",
   "metadata": {},
   "outputs": [
    {
     "name": "stdout",
     "output_type": "stream",
     "text": [
      "Random Integers: [1, 0, 0, 1, 1, 0, 1, 1, 0, 0, 1, 1, 1, 1, 0, 1, 1, 1, 1, 0, 0, 0, 1, 1, 0, 1, 1, 0, 0, 0, 0, 0, 1, 1, 0, 1, 0, 1, 0, 0, 1, 1, 0, 0, 1, 0, 0, 0, 1, 1, 0, 0, 1, 0, 0, 0, 0, 0, 0, 0, 0, 0, 0, 0, 0, 0, 1, 0, 0, 1, 0, 0, 1, 0, 1, 1, 1, 1, 1, 1, 1, 0, 0, 0, 0, 1, 0, 1, 1, 0, 1, 0, 0, 1, 0, 0, 1, 0, 1, 1]\n",
      "Longest Run of Zeros: 13\n"
     ]
    }
   ],
   "source": [
    "import random\n",
    "\n",
    "random_integers = [random.randint(0, 1) for _ in range(100)]\n",
    "\n",
    "max_zeros = 0\n",
    "current_zeros = 0\n",
    "\n",
    "for num in random_integers:\n",
    "    if num == 0:\n",
    "        current_zeros += 1\n",
    "        if current_zeros > max_zeros:\n",
    "            max_zeros = current_zeros\n",
    "    else:\n",
    "        current_zeros = 0\n",
    "\n",
    "print(\"Random Integers:\", random_integers)\n",
    "print(\"Longest Run of Zeros:\", max_zeros)\n"
   ]
  },
  {
   "cell_type": "markdown",
   "id": "25b0e1cf",
   "metadata": {},
   "source": [
    "9. Read the size of the matrix from the user. Populate it with data from the user. Print the\n",
    "original ,transpose and product of the matrices on the screen."
   ]
  },
  {
   "cell_type": "code",
   "execution_count": 22,
   "id": "c3246f13",
   "metadata": {},
   "outputs": [
    {
     "name": "stdout",
     "output_type": "stream",
     "text": [
      "Enter the number of rows: 2\n",
      "Enter the number of columns: 2\n",
      "Enter the elements of the matrix:\n",
      "Enter element at position (1,1): 1\n",
      "Enter element at position (1,2): 2\n",
      "Enter element at position (2,1): 1\n",
      "Enter element at position (2,2): 2\n",
      "Original Matrix:\n",
      "[1, 2]\n",
      "[1, 2]\n",
      "Transpose Matrix:\n",
      "[1, 1]\n",
      "[2, 2]\n",
      "Enter the number of rows for the second matrix: 2\n",
      "Enter the number of columns for the second matrix: 2\n",
      "Enter the elements of the second matrix:\n",
      "Enter element at position (1,1): 0\n",
      "Enter element at position (1,2): 2\n",
      "Enter element at position (2,1): 0\n",
      "Enter element at position (2,2): 2\n",
      "Product of the Matrices:\n",
      "[0, 6]\n",
      "[0, 6]\n"
     ]
    }
   ],
   "source": [
    "rows = int(input(\"Enter the number of rows: \"))\n",
    "columns = int(input(\"Enter the number of columns: \"))\n",
    "\n",
    "matrix = [[0] * columns for _ in range(rows)]\n",
    "\n",
    "print(\"Enter the elements of the matrix:\")\n",
    "for i in range(rows):\n",
    "    for j in range(columns):\n",
    "        matrix[i][j] = int(input(f\"Enter element at position ({i+1},{j+1}): \"))\n",
    "\n",
    "print(\"Original Matrix:\")\n",
    "for row in matrix:\n",
    "    print(row)\n",
    "\n",
    "transpose = [[matrix[j][i] for j in range(rows)] for i in range(columns)]\n",
    "\n",
    "print(\"Transpose Matrix:\")\n",
    "for row in transpose:\n",
    "    print(row)\n",
    "\n",
    "rows2 = int(input(\"Enter the number of rows for the second matrix: \"))\n",
    "columns2 = int(input(\"Enter the number of columns for the second matrix: \"))\n",
    "\n",
    "matrix2 = [[0] * columns2 for _ in range(rows2)]\n",
    "\n",
    "print(\"Enter the elements of the second matrix:\")\n",
    "for i in range(rows2):\n",
    "    for j in range(columns2):\n",
    "        matrix2[i][j] = int(input(f\"Enter element at position ({i+1},{j+1}): \"))\n",
    "\n",
    "product = [[sum(matrix[i][k] * matrix2[k][j] for k in range(columns)) for j in range(columns2)] for i in range(rows)]\n",
    "\n",
    "print(\"Product of the Matrices:\")\n",
    "for row in product:\n",
    "    print(row)\n"
   ]
  },
  {
   "cell_type": "markdown",
   "id": "c9063dad",
   "metadata": {},
   "source": [
    "                                                    THE END...."
   ]
  },
  {
   "cell_type": "code",
   "execution_count": null,
   "id": "7821421d",
   "metadata": {},
   "outputs": [],
   "source": []
  }
 ],
 "metadata": {
  "kernelspec": {
   "display_name": "Python 3 (ipykernel)",
   "language": "python",
   "name": "python3"
  },
  "language_info": {
   "codemirror_mode": {
    "name": "ipython",
    "version": 3
   },
   "file_extension": ".py",
   "mimetype": "text/x-python",
   "name": "python",
   "nbconvert_exporter": "python",
   "pygments_lexer": "ipython3",
   "version": "3.10.9"
  }
 },
 "nbformat": 4,
 "nbformat_minor": 5
}
